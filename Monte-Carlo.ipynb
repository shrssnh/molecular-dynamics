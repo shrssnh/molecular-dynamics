{
 "cells": [
  {
   "cell_type": "code",
   "execution_count": 1,
   "id": "eb7cb269-6a75-434d-be43-70a19aa33bd3",
   "metadata": {},
   "outputs": [],
   "source": [
    "import numpy as np\n",
    "from matplotlib import pyplot as plt\n",
    "from tqdm import tqdm"
   ]
  },
  {
   "cell_type": "code",
   "execution_count": 2,
   "id": "135e98c5-7ac6-4045-acf1-1041bb9b1907",
   "metadata": {},
   "outputs": [],
   "source": [
    "def generate_particles(N, box_length=18, min_distance=3, temperature=100):\n",
    "    # Generate positions\n",
    "    positions = np.zeros((N, 3))\n",
    "    num_attempts = 0\n",
    "    for i in range(N):\n",
    "        while True:\n",
    "            new_position = np.random.uniform(low=0, high=box_length, size=3)\n",
    "            if i == 0:\n",
    "                break\n",
    "            min_dist = np.min(np.linalg.norm(positions[:i] - new_position, axis=1))\n",
    "            if min_dist >= min_distance:\n",
    "                break\n",
    "            num_attempts += 1\n",
    "            if num_attempts > 1000:\n",
    "                raise ValueError(\"Could not generate positions with given constraints.\")\n",
    "        positions[i] = new_position\n",
    "    \n",
    "    # Generate velocities from Maxwell-Boltzmann distribution\n",
    "    m = 1  # mass of particles\n",
    "    k = 1  # Boltzmann constant\n",
    "    std_dev = np.sqrt(k * temperature / m)\n",
    "    velocities = np.random.normal(loc=0, scale=std_dev, size=(N, 3))\n",
    "    \n",
    "    return positions, velocities"
   ]
  },
  {
   "cell_type": "code",
   "execution_count": 3,
   "id": "7470b906-05d5-49d3-a549-5dc4cb29d542",
   "metadata": {},
   "outputs": [
    {
     "name": "stdout",
     "output_type": "stream",
     "text": [
      "[[1.67942585e+01 4.85177975e+00 1.51603001e+01]\n",
      " [5.67985270e+00 7.40653719e+00 1.30425271e+01]\n",
      " [6.16384762e+00 8.38626058e+00 7.45387152e+00]\n",
      " [1.26669445e+01 9.62183506e+00 9.36472918e+00]\n",
      " [1.06940628e+01 3.52529374e+00 3.42264657e+00]\n",
      " [1.45629019e+01 1.27535429e+01 6.24243606e+00]\n",
      " [1.27484608e+01 1.76064017e+01 1.78627758e-01]\n",
      " [6.31961343e+00 1.68198428e+01 5.01638119e+00]\n",
      " [8.26155230e-01 1.02245893e+01 4.86584049e+00]\n",
      " [1.53270929e+00 3.50540041e+00 1.47229773e+01]\n",
      " [1.04736707e+01 1.54122661e+01 2.83544395e+00]\n",
      " [2.54138219e+00 4.62557811e+00 4.91305453e+00]\n",
      " [8.95488846e+00 7.68081361e+00 1.01841503e+01]\n",
      " [1.17025855e+01 7.91711389e+00 1.53385647e+01]\n",
      " [4.34537910e+00 1.45699243e+01 7.56551802e+00]\n",
      " [1.36890171e+01 1.06281435e+01 1.51409216e+01]\n",
      " [9.15892528e+00 1.58023402e+01 1.41135168e+01]\n",
      " [1.65327377e+01 9.94951376e+00 1.72965323e+01]\n",
      " [1.25429138e+01 8.93600653e+00 1.48177190e+00]\n",
      " [8.45054324e+00 1.46549420e+01 7.40761154e+00]\n",
      " [4.24058513e-01 1.57909952e+01 1.89740333e+00]\n",
      " [8.53533264e+00 1.02791093e+01 1.31264504e+01]\n",
      " [1.41275096e+01 2.87238945e+00 1.29943652e+01]\n",
      " [1.08986920e+01 1.35961774e+01 5.55543033e+00]\n",
      " [7.03575889e+00 6.53217580e+00 2.46081992e+00]\n",
      " [1.23993211e+01 1.42833608e+01 1.75355073e+01]\n",
      " [3.01046361e+00 7.43761946e+00 9.27161286e+00]\n",
      " [9.77238297e+00 1.65610278e+00 5.75881855e+00]\n",
      " [1.21763684e+01 4.08257508e+00 1.49573849e+01]\n",
      " [6.74378536e+00 9.86580392e-01 3.90837461e+00]\n",
      " [1.24066095e+01 1.62867985e+01 5.44102440e+00]\n",
      " [3.85857311e+00 1.32302104e+01 1.34706031e+00]\n",
      " [3.86745418e+00 5.16891767e+00 1.17950727e+01]\n",
      " [2.45715445e+00 2.34656112e+00 2.39087900e+00]\n",
      " [1.38523505e+01 4.25024724e+00 8.79694420e+00]\n",
      " [3.63344003e+00 1.57398320e+01 1.37305976e+01]\n",
      " [1.48446519e+01 2.44960594e+00 2.16187125e+00]\n",
      " [1.59102656e+01 8.10011067e-01 4.99295635e+00]\n",
      " [6.04936978e+00 3.93625540e+00 1.50661643e+01]\n",
      " [1.20678366e+01 1.40341180e+01 1.06553494e+01]\n",
      " [1.75040104e+01 1.59956222e+01 3.75918186e+00]\n",
      " [8.94013691e+00 1.67518278e+01 3.23568163e-01]\n",
      " [1.73000705e+01 9.53559130e+00 1.32808872e+01]\n",
      " [1.72392562e+01 1.34377500e+01 1.50751617e+01]\n",
      " [1.47252018e+01 5.50781377e+00 4.78158633e+00]\n",
      " [9.06796246e+00 3.53261036e+00 1.74152060e+01]\n",
      " [7.48821797e+00 1.37165477e+01 1.76001520e+01]\n",
      " [1.50935828e+01 7.11266433e+00 8.66805045e+00]\n",
      " [3.46578002e+00 7.51497350e+00 1.57022125e+01]\n",
      " [9.67236730e+00 3.14503494e+00 1.16653897e+01]\n",
      " [1.75961898e+01 6.37516434e+00 6.59012450e+00]\n",
      " [1.72240665e+01 1.17119476e+01 3.83983832e+00]\n",
      " [8.40039993e+00 9.88234130e+00 2.69498438e+00]\n",
      " [5.89607330e+00 3.60417102e-01 1.51102400e+01]\n",
      " [2.96894736e+00 1.72830489e+01 5.02825035e-01]\n",
      " [1.72020502e+01 2.38070977e+00 9.95962104e+00]\n",
      " [1.71315957e+01 8.17450518e+00 2.66228466e+00]\n",
      " [2.20101240e+00 1.72784490e+01 4.83118083e+00]\n",
      " [2.28229803e+00 1.15283119e+01 1.66258642e+01]\n",
      " [2.42369190e+00 2.96799709e-01 1.11759062e+01]\n",
      " [1.53824446e+00 7.44878965e+00 3.73329031e+00]\n",
      " [1.96925280e+00 2.07740697e+00 1.74352094e+01]\n",
      " [1.31437976e+01 1.40348988e+01 6.19416188e-01]\n",
      " [1.77835055e+01 1.49562010e+01 7.75844147e+00]\n",
      " [1.31085926e-01 1.49245803e+01 1.69876120e+01]\n",
      " [2.11105711e-01 1.18489302e+01 1.12983223e+00]\n",
      " [3.57367561e+00 1.03561120e+00 5.05982999e+00]\n",
      " [1.73371902e+01 1.75518575e+01 1.44309228e+01]\n",
      " [5.63293463e+00 5.73648307e+00 5.73249010e+00]\n",
      " [1.10830872e+01 1.09259158e+01 3.61740424e+00]\n",
      " [8.25786033e+00 1.09701293e+01 1.01821095e+01]\n",
      " [8.04652659e+00 3.14703168e+00 1.62879625e+00]\n",
      " [2.01141865e+00 1.03521449e+01 8.58598655e+00]\n",
      " [1.42525529e+01 1.55866652e+01 1.34331360e+01]\n",
      " [1.02586900e+01 6.23876761e+00 4.88026688e+00]\n",
      " [1.33083629e+00 1.20874585e+01 1.25991064e+01]\n",
      " [6.74542547e-01 1.49057898e+01 1.11008087e+01]\n",
      " [1.15095542e-01 2.67301026e+00 8.59083370e+00]\n",
      " [1.01123886e+01 5.01079470e+00 9.88929343e-04]\n",
      " [1.61511875e+01 1.21303185e+01 1.22436582e+01]\n",
      " [1.76480552e+01 8.99193104e+00 9.68924215e+00]\n",
      " [3.70755976e+00 1.41711726e+01 1.69924597e+01]\n",
      " [1.28561077e+01 5.98669830e+00 1.24024078e+01]\n",
      " [1.50576094e+00 5.15388930e+00 4.09532336e-01]\n",
      " [1.67444255e+01 1.66577718e+01 1.78384770e+01]\n",
      " [1.66676211e+01 5.23268469e+00 1.20931402e+01]\n",
      " [1.71636581e+01 3.63110767e+00 4.17107027e+00]\n",
      " [1.18326544e+01 1.17333729e+01 1.28159707e+01]\n",
      " [8.75334322e+00 1.79952146e+01 7.05790439e+00]\n",
      " [6.69908138e+00 6.58631904e-01 8.12371120e+00]\n",
      " [6.11149139e+00 2.13223793e+00 1.25968219e+01]\n",
      " [1.09033654e+01 1.02507822e+01 1.79899245e+01]\n",
      " [7.53845351e+00 1.69662382e+01 1.70483012e+01]\n",
      " [1.26172928e+01 1.76913954e+01 8.30807713e+00]\n",
      " [1.21756093e+01 1.90462601e-01 8.83868711e-01]\n",
      " [1.45932509e+01 1.10148077e+01 2.25724203e-01]\n",
      " [2.70768454e+00 1.02337829e-02 1.42869714e+01]\n",
      " [4.37392289e+00 1.27275178e+01 1.04822842e+01]\n",
      " [2.79862611e+00 1.78810652e+01 1.69894540e+01]\n",
      " [5.25034664e+00 1.54191283e+00 1.30699667e+00]\n",
      " [1.19762282e+01 1.70766750e+01 1.19147456e+01]\n",
      " [3.73032008e+00 9.62229122e+00 2.56245054e+00]\n",
      " [1.25554124e+01 9.04710022e+00 5.56407060e+00]\n",
      " [6.88655275e+00 7.74239795e+00 1.58377067e+01]\n",
      " [1.64280239e+01 5.48990731e+00 1.41943167e-01]\n",
      " [8.00674038e+00 1.27978529e+01 5.41302955e-01]\n",
      " [6.39714994e+00 1.17251804e+01 5.51398514e+00]\n",
      " [1.71029043e+01 1.17383644e+00 1.66686547e+01]]\n"
     ]
    }
   ],
   "source": [
    "N = 108  # Number of particles\n",
    "positions, velocities = generate_particles(N)\n",
    "print(positions)\n",
    "# print(velocities)\n",
    "\n",
    "# with open(\"abc.xyz\", \"a\") as file:\n",
    "#     file.write(\"108\\n\")\n",
    "#     file.write(\"WOW\\n\")\n",
    "#     it = 0\n",
    "#     for k in positions:\n",
    "#         file.write(\"Ar\" + str(it) + \" \" + str(k[0]) + \" \" + str(k[1]) + \" \" + str(k[2]) + \"\\n\")\n",
    "#         it += 1"
   ]
  },
  {
   "cell_type": "code",
   "execution_count": 4,
   "id": "644930f7-0f5d-4a2f-a76a-dbe7d6fc97be",
   "metadata": {},
   "outputs": [],
   "source": [
    "delta_matrix = positions[:, np.newaxis] - positions\n",
    "mindist = 0.3\n",
    "delta_matrix[delta_matrix < mindist] = mindist\n",
    "# print(delta_matrix)"
   ]
  },
  {
   "cell_type": "code",
   "execution_count": 5,
   "id": "5f826177-4f47-4c74-b606-18828cabaa8d",
   "metadata": {},
   "outputs": [],
   "source": [
    "distance_matrix = np.sum(np.square(delta_matrix), axis=-1)\n",
    "# print(distance_matrix)"
   ]
  },
  {
   "cell_type": "code",
   "execution_count": 6,
   "id": "87d57ad3-d1c0-47a2-94bb-3e0728e47e67",
   "metadata": {},
   "outputs": [],
   "source": [
    "def calculate_grad(pos, delta, dist, eps = 1, sig = 3.4):\n",
    "    grad = []\n",
    "    for i in range(len(pos)):\n",
    "        for d in range(3):\n",
    "            U = 0\n",
    "            for j in range(len(pos)):\n",
    "                if j != i:\n",
    "                    U += (1/dist[i,j]**8 - 2 * sig**6 / dist[i,j]**14) * (delta_matrix[i, j, d])\n",
    "            U *= 24 * eps * sig**6\n",
    "            grad.append(U)\n",
    "    gradients = np.array(grad).reshape(len(pos), 3)\n",
    "    return gradients"
   ]
  },
  {
   "cell_type": "code",
   "execution_count": 7,
   "id": "a61d2287-c4b3-4fc5-98ba-6960fab951c1",
   "metadata": {},
   "outputs": [],
   "source": [
    "def calculate_pot(dist, eps = 1, sig = 3.4):\n",
    "    U = 0\n",
    "    global N\n",
    "    for i in range(N):\n",
    "        for j in range(i+1,N):\n",
    "            U += 4 * eps * (sig**12 / dist[i,j]**12 - sig**6 / dist[i,j]**6)\n",
    "    return U"
   ]
  },
  {
   "cell_type": "code",
   "execution_count": 8,
   "id": "a526dee4-aef6-4741-8dd7-7adc3fb66df9",
   "metadata": {},
   "outputs": [],
   "source": [
    "def main_loop(pos, delta, dis, max_iter = 2000, beta = 1, fac = 1):\n",
    "    pots = [calculate_pot(dis)]\n",
    "    for i in tqdm(range(max_iter)):\n",
    "        part = np.random.randint([108,3])\n",
    "        pos1 = np.copy(pos)\n",
    "        pos1[part[0], part[1]] += fac * (np.random.rand() - 0.5)\n",
    "        delta = pos1[:, np.newaxis] - pos1\n",
    "        delta[delta < mindist] = mindist\n",
    "        dis = np.sum(np.square(delta), axis=-1)\n",
    "        pottt = calculate_pot(dis)\n",
    "        if pottt - pots[-1] < 0:\n",
    "            pots.append(pottt)\n",
    "            pos = pos1\n",
    "        elif np.random.rand() < np.exp(-1 * beta * (pottt - pots[-1])):\n",
    "            pots.append(pottt)\n",
    "            pos = pos1\n",
    "    return pots"
   ]
  },
  {
   "cell_type": "code",
   "execution_count": 9,
   "id": "1fbbd8e5-5afb-4878-892e-4dc387bb50f8",
   "metadata": {},
   "outputs": [
    {
     "name": "stderr",
     "output_type": "stream",
     "text": [
      "100%|██████████████████████████████████████████████████████████████████████████████████████████████████████████████████████████████████████████████████████████████████████████| 2000/2000 [00:12<00:00, 166.66it/s]\n"
     ]
    }
   ],
   "source": [
    "pots = main_loop(positions, delta_matrix, distance_matrix)"
   ]
  },
  {
   "cell_type": "code",
   "execution_count": 10,
   "id": "479be62c-f272-4623-a6ed-251bd8186bd0",
   "metadata": {},
   "outputs": [
    {
     "data": {
      "image/png": "[encoded data removed]",
      "text/plain": [
       "<Figure size 640x480 with 1 Axes>"
      ]
     },
     "metadata": {},
     "output_type": "display_data"
    }
   ],
   "source": [
    "plt.plot(pots[1:])\n",
    "plt.show()"
   ]
  },
  {
   "cell_type": "code",
   "execution_count": null,
   "id": "b4ff81e7-b35b-4c17-bcf7-533a2a3be379",
   "metadata": {},
   "outputs": [],
   "source": []
  },
  {
   "cell_type": "code",
   "execution_count": null,
   "id": "e179cbfd-d8ce-4ab9-afd3-89b1aa7d7f26",
   "metadata": {},
   "outputs": [],
   "source": []
  }
 ],
 "metadata": {
  "kernelspec": {
   "display_name": "Python 3 (ipykernel)",
   "language": "python",
   "name": "python3"
  },
  "language_info": {
   "codemirror_mode": {
    "name": "ipython",
    "version": 3
   },
   "file_extension": ".py",
   "mimetype": "text/x-python",
   "name": "python",
   "nbconvert_exporter": "python",
   "pygments_lexer": "ipython3",
   "version": "3.12.3"
  }
 },
 "nbformat": 4,
 "nbformat_minor": 5
}
